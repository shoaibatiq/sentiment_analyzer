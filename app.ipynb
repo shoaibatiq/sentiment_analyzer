{
 "cells": [
  {
   "cell_type": "code",
   "execution_count": 1,
   "metadata": {},
   "outputs": [],
   "source": [
    "import requests\n"
   ]
  },
  {
   "cell_type": "code",
   "execution_count": 4,
   "metadata": {},
   "outputs": [],
   "source": [
    "res = requests.post('http://127.0.0.1:5000/predict', json={\"mytext\":\"nigga\"})\n"
   ]
  },
  {
   "cell_type": "code",
   "execution_count": 5,
   "metadata": {},
   "outputs": [
    {
     "data": {
      "text/plain": [
       "{'prediction': False}"
      ]
     },
     "execution_count": 5,
     "metadata": {},
     "output_type": "execute_result"
    }
   ],
   "source": [
    "res.json()"
   ]
  },
  {
   "cell_type": "code",
   "execution_count": 47,
   "metadata": {},
   "outputs": [],
   "source": [
    "def perfect_predict(text):\n",
    "\turl = \"https://perfect-sentiment-analysis.p.rapidapi.com/\"\n",
    "\n",
    "\tquerystring = {\"string\": text}\n",
    "\n",
    "\theaders = {\n",
    "\t\t\"X-RapidAPI-Key\": \"7a7e4e4295mshcc423f46de64c10p1f57fcjsn2b872365896b\",\n",
    "\t\t\"X-RapidAPI-Host\": \"perfect-sentiment-analysis.p.rapidapi.com\"\n",
    "\t}\n",
    "\n",
    "\tresponse = requests.get(url, headers=headers, params=querystring)\n",
    "\tresponse = response.json()\n",
    "\tsentiment = response['sentiment_analysis'].lower()\n",
    "\tprediction = sentiment[:3] not in [ 'neg', 'thr', 'hos']\n",
    "\treturn prediction"
   ]
  },
  {
   "cell_type": "code",
   "execution_count": 49,
   "metadata": {},
   "outputs": [
    {
     "data": {
      "text/plain": [
       "True"
      ]
     },
     "execution_count": 49,
     "metadata": {},
     "output_type": "execute_result"
    }
   ],
   "source": [
    "perfect_predict(\"I lost 10 kg fat\")"
   ]
  },
  {
   "cell_type": "code",
   "execution_count": 35,
   "metadata": {},
   "outputs": [
    {
     "data": {
      "text/plain": [
       "{'Date': '31/01/2023', 'Time': '23:04:34', 'sentiment_analysis': 'Negative'}"
      ]
     },
     "execution_count": 35,
     "metadata": {},
     "output_type": "execute_result"
    }
   ],
   "source": [
    "response"
   ]
  },
  {
   "cell_type": "code",
   "execution_count": null,
   "metadata": {},
   "outputs": [],
   "source": []
  }
 ],
 "metadata": {
  "kernelspec": {
   "display_name": "Python 3",
   "language": "python",
   "name": "python3"
  },
  "language_info": {
   "codemirror_mode": {
    "name": "ipython",
    "version": 3
   },
   "file_extension": ".py",
   "mimetype": "text/x-python",
   "name": "python",
   "nbconvert_exporter": "python",
   "pygments_lexer": "ipython3",
   "version": "3.10.2"
  },
  "orig_nbformat": 4,
  "vscode": {
   "interpreter": {
    "hash": "bae55d6b11bb5543d425b9c04169f3c4cce7e4f02bdc9f5ec602fd3874a335cf"
   }
  }
 },
 "nbformat": 4,
 "nbformat_minor": 2
}
